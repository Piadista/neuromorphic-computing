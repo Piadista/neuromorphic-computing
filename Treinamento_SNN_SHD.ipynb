{
 "cells": [
  {
   "cell_type": "markdown",
   "id": "d70228d8-7399-4a0d-bdc8-4d6038a88845",
   "metadata": {},
   "source": [
    "### Treinamento de uma spike neural network (SNN)\n",
    "\n",
    "O presente jupyter notebook contém um passo-a-passo de um treinamento de uma SNN baseada nos neurônios do tipo LIF. O treinamento foi realizado em uma base de dados denominada Spiking Heidelberg Digits (SHD). Tal base contém dados de números de 0 até 9 falados nas línguas alemã e inglesa, totalizando 20 classes. Para chegar a tal resultado, foram utilizadas as bibliotecas Tonic para importar o dataset e a Rockpool, bibioteca que utiliza a API do PyTorch para implementar SNNs. Em particular, ao implementar as redes utilizando a biblioteca do Roockpool, torna-se mais fácil passar a rede para o chip Xylo da empresa SynSense.\n",
    "A implementação foram baseadas nos tutoriais:\n",
    "\n",
    "https://rockpool.ai/tutorials/rockpool-shd.html\n",
    "\n",
    "https://github.com/fzenke/spytorch/blob/main/notebooks/SpyTorchTutorial4.ipynb"
   ]
  },
  {
   "cell_type": "code",
   "execution_count": null,
   "id": "49bce1ca-cab3-49f9-a655-545b3acebfad",
   "metadata": {},
   "outputs": [],
   "source": []
  }
 ],
 "metadata": {
  "kernelspec": {
   "display_name": "Python 3 (ipykernel)",
   "language": "python",
   "name": "python3"
  },
  "language_info": {
   "codemirror_mode": {
    "name": "ipython",
    "version": 3
   },
   "file_extension": ".py",
   "mimetype": "text/x-python",
   "name": "python",
   "nbconvert_exporter": "python",
   "pygments_lexer": "ipython3",
   "version": "3.10.12"
  }
 },
 "nbformat": 4,
 "nbformat_minor": 5
}
